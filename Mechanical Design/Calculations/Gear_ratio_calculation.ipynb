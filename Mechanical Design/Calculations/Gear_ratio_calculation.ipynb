{
 "cells": [
  {
   "cell_type": "markdown",
   "id": "86cf53f9-c0c3-4756-b6c0-db39ce354b05",
   "metadata": {
    "tags": []
   },
   "source": [
    "# Knee Gear Ratio Calculation\n",
    "Aproximated parameters to calculate necessary knee torque and velocity. This calculations are done using a really simple approximation  model"
   ]
  },
  {
   "cell_type": "markdown",
   "id": "ad37d3a5-fa61-4942-be63-80670793028d",
   "metadata": {},
   "source": [
    "Import Libraries"
   ]
  },
  {
   "cell_type": "code",
   "execution_count": 168,
   "id": "a8c05837-31a4-47c0-93cc-4f2d15e78a79",
   "metadata": {},
   "outputs": [],
   "source": [
    "import numpy as np"
   ]
  },
  {
   "cell_type": "code",
   "execution_count": 169,
   "id": "2e28b5f2-1f48-4081-a865-5e0808d28dc1",
   "metadata": {},
   "outputs": [],
   "source": [
    "Gear_ratio = 2.5;\n",
    "m = 8;\n",
    "g = 9.81;\n",
    "freq = 2.5;\n",
    "jump = 0.1;\n",
    "limb = 0.5;\n",
    "theta_k_0 = np.radians(67.5);\n",
    "Nominal_torque = 13 \n",
    "Nominal_speed = 300*2*np.pi/60"
   ]
  },
  {
   "cell_type": "markdown",
   "id": "850e0072-4f91-4db8-83be-0c0d6fb4ac31",
   "metadata": {
    "tags": []
   },
   "source": [
    "### Stiffness\n"
   ]
  },
  {
   "cell_type": "code",
   "execution_count": 170,
   "id": "6af39401-a98c-45c7-a9b4-0297fa50bed9",
   "metadata": {},
   "outputs": [
    {
     "name": "stdout",
     "output_type": "stream",
     "text": [
      "The spring stiffness equivalent for a leg of mass 8 kg is 1973.9208802178716.\n"
     ]
    }
   ],
   "source": [
    "k =(2*np.pi/(1/freq))**2*m;\n",
    "print(f\"The spring stiffness equivalent for a leg of mass {m} kg is {k}.\")"
   ]
  },
  {
   "cell_type": "markdown",
   "id": "ec7e6ddc-760a-4edf-8a45-9558a61c2a37",
   "metadata": {},
   "source": [
    "### Displacement"
   ]
  },
  {
   "cell_type": "code",
   "execution_count": 171,
   "id": "385f41d1-b7a7-4a97-911d-aaaac738427c",
   "metadata": {},
   "outputs": [
    {
     "name": "stdout",
     "output_type": "stream",
     "text": [
      "The base displacement is 0.039758432461253344\n"
     ]
    }
   ],
   "source": [
    "x_1 = m*g/k;\n",
    "print(f\"The base displacement is {x_1}\")"
   ]
  },
  {
   "cell_type": "markdown",
   "id": "7ad070bf-57ba-41fd-acd1-0aa30801152a",
   "metadata": {},
   "source": [
    "### Leg rest length"
   ]
  },
  {
   "cell_type": "code",
   "execution_count": 172,
   "id": "68d88be8-ef51-4531-806c-e142f0bdba66",
   "metadata": {},
   "outputs": [
    {
     "name": "stdout",
     "output_type": "stream",
     "text": [
      "The leg rest length in z axis, for the desired leg composition and rest knee angle is, 0.9238795325112867\n"
     ]
    }
   ],
   "source": [
    "h_2 = 2*np.sin((theta_k_0))*limb;\n",
    "print(f\"The leg rest length in z axis, for the desired leg composition and rest knee angle is, {h_2}\")\n"
   ]
  },
  {
   "cell_type": "markdown",
   "id": "441c8cf6-336f-477f-be24-db77899d3dca",
   "metadata": {},
   "source": [
    "### Height at t_1"
   ]
  },
  {
   "cell_type": "code",
   "execution_count": 173,
   "id": "329e6f81-7e88-42e8-8ed0-07b32b681207",
   "metadata": {},
   "outputs": [
    {
     "name": "stdout",
     "output_type": "stream",
     "text": [
      "Leg height at time 1 0.8841211000500334m\n"
     ]
    }
   ],
   "source": [
    "h_1 = h_2 - x_1\n",
    "print(f\"Leg height at time 1 {h_1}m\")"
   ]
  },
  {
   "cell_type": "markdown",
   "id": "c4716208-7f50-4c9f-a8c1-9049c209f77b",
   "metadata": {},
   "source": [
    "### Height at t_3"
   ]
  },
  {
   "cell_type": "code",
   "execution_count": 174,
   "id": "37038b99-6cfd-490e-85f9-d4137d2ad605",
   "metadata": {},
   "outputs": [
    {
     "name": "stdout",
     "output_type": "stream",
     "text": [
      "Height at time 3 is 1.0238795325112868m\n"
     ]
    }
   ],
   "source": [
    "h_3 = h_2 + jump;\n",
    "print(f\"Height at time 3 is {h_3}m\")"
   ]
  },
  {
   "cell_type": "markdown",
   "id": "803351a0-0887-4820-9f9b-9b67e9795e44",
   "metadata": {},
   "source": [
    "## Max Velocity"
   ]
  },
  {
   "cell_type": "code",
   "execution_count": 175,
   "id": "c6a1e74f-558c-47e4-8136-62a6db5e6caf",
   "metadata": {},
   "outputs": [
    {
     "name": "stdout",
     "output_type": "stream",
     "text": [
      "The maximum velocity needed to jump 0.1 m at 2.5Hz is 13.025903972234273 rad/s at the knee joint.\n"
     ]
    }
   ],
   "source": [
    "v_1 = np.sqrt((m*g*h_3-1/2*k*x_1**2+m*g*h_1)*2/m)\n",
    "theta_k_1 = (np.arcsin((h_1/2)/limb))\n",
    "dtheta_k_1 = v_1/(2*np.cos(theta_k_1)*limb)\n",
    "print(f\"The maximum velocity needed to jump {jump} m at {freq}Hz is {dtheta_k_1} rad/s at the knee joint.\")"
   ]
  },
  {
   "cell_type": "markdown",
   "id": "de1c919c-59e3-49a4-b009-b96a2a1d7c7f",
   "metadata": {},
   "source": [
    "## Max Torque"
   ]
  },
  {
   "cell_type": "code",
   "execution_count": 176,
   "id": "f318e740-e342-44f0-9245-886295d3c4a8",
   "metadata": {},
   "outputs": [
    {
     "name": "stdout",
     "output_type": "stream",
     "text": [
      "The maximum torque needed to jump 0.1 m at 2.5Hz is 42.04739019258911 Nm at the knee joint.\n"
     ]
    }
   ],
   "source": [
    "x_0 = 2*m*g/k\n",
    "h_0 = h_2-x_0\n",
    "theta_0 = (np.arcsin((h_0/2)/limb))\n",
    "Torque_max = limb*np.cos(theta_0)*2*m*g\n",
    "print(f\"The maximum torque needed to jump {jump} m at {freq}Hz is {Torque_max} Nm at the knee joint.\")"
   ]
  },
  {
   "cell_type": "markdown",
   "id": "0b15251a-d1fb-4c95-910d-2c98fdde8337",
   "metadata": {},
   "source": [
    "# Motor"
   ]
  },
  {
   "cell_type": "code",
   "execution_count": 177,
   "id": "e74430db-802a-40ee-82ce-2e580ac54f66",
   "metadata": {},
   "outputs": [
    {
     "name": "stdout",
     "output_type": "stream",
     "text": [
      "The necessary torque is 16.818956077035644 while the nominal is 13\n",
      "The necessary speed is 32.56475993058568 while the nominal is 31.41592653589793\n"
     ]
    }
   ],
   "source": [
    "Torque_necessary = Torque_max/Gear_ratio\n",
    "Speed_necessary = dtheta_k_1 * Gear_ratio\n",
    "\n",
    "if (Torque_necessary < Nominal_torque) & (Speed_necessary < Nominal_speed) == False:\n",
    "    print(f\"The necessary torque is {Torque_necessary} while the nominal is {Nominal_torque}\")\n",
    "    print(f\"The necessary speed is {Speed_necessary} while the nominal is {Nominal_speed}\")\n",
    "else :\n",
    "    print(f\"A gear ratio of {Gear_ratio} is enought to produce necessary speed and torque\")"
   ]
  },
  {
   "cell_type": "markdown",
   "id": "e7880336-cd56-4e54-9ee8-09927589fef1",
   "metadata": {},
   "source": [
    "**Need to take into account that the PAMs are gonna provide some extra torque and velocity to the knee joint, Taking that into account seems that 2.5 gear ratio can be a feasible approach.**"
   ]
  },
  {
   "cell_type": "code",
   "execution_count": null,
   "id": "e48b14e0-8a05-4580-a066-0dff6c1c7a71",
   "metadata": {},
   "outputs": [],
   "source": []
  }
 ],
 "metadata": {
  "kernelspec": {
   "display_name": "Python 3 (ipykernel)",
   "language": "python",
   "name": "python3"
  },
  "language_info": {
   "codemirror_mode": {
    "name": "ipython",
    "version": 3
   },
   "file_extension": ".py",
   "mimetype": "text/x-python",
   "name": "python",
   "nbconvert_exporter": "python",
   "pygments_lexer": "ipython3",
   "version": "3.10.9"
  }
 },
 "nbformat": 4,
 "nbformat_minor": 5
}
